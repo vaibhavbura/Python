{
 "cells": [
  {
   "cell_type": "code",
   "execution_count": 3,
   "metadata": {},
   "outputs": [
    {
     "name": "stdout",
     "output_type": "stream",
     "text": [
      "Dont forget to pay bills\n",
      "To Do List remaining\n",
      "-Buy Fruits\n",
      "-Pay Bills\n",
      "-Schedule meeting\n",
      "-Go for gym\n"
     ]
    }
   ],
   "source": [
    "#TO DO List\n",
    "to_do_list=[\"Buy Fruits\",\"Clean the house\",\"Pay Bills\"]\n",
    "\n",
    "##Adding to task\n",
    "to_do_list.append(\"Schedule meeting\")\n",
    "to_do_list.append(\"Go for gym\")\n",
    "\n",
    "## Removing a completed task\n",
    "to_do_list.remove(\"Clean the house\")\n",
    "\n",
    "if(\"Pay Bills\") in to_do_list:\n",
    "    print(\"Dont forget to pay bills\")\n",
    "\n",
    "print(\"To Do List remaining\")\n",
    "for task in to_do_list:\n",
    "    print(f\"-{task}\")\n"
   ]
  },
  {
   "cell_type": "code",
   "execution_count": 6,
   "metadata": {},
   "outputs": [
    {
     "name": "stdout",
     "output_type": "stream",
     "text": [
      "Average Grade: 88.00\n",
      "Highest Grade:95\n",
      "Lowest Grade:78\n"
     ]
    }
   ],
   "source": [
    "#Organizing student grades\n",
    "grades =[85,92,78,90,88]\n",
    "\n",
    "#Adding a new grade\n",
    "grades.append(95)\n",
    "\n",
    "#Calculating the average grade\n",
    "average_grade =sum(grades)/len(grades)\n",
    "print(f\"Average Grade: {average_grade :.2f}\")\n",
    "highest=max(grades)\n",
    "lowest=min(grades)\n",
    "print(f\"Highest Grade:{highest}\")\n",
    "print(f\"Lowest Grade:{lowest}\")"
   ]
  },
  {
   "cell_type": "code",
   "execution_count": 8,
   "metadata": {},
   "outputs": [
    {
     "name": "stdout",
     "output_type": "stream",
     "text": [
      "oranges are in stock\n",
      "apples\n",
      "oranges\n",
      "grapes\n",
      "cheeko\n"
     ]
    }
   ],
   "source": [
    "inventory=[\"apples\",\"banans\",\"oranges\",\"grapes\"]\n",
    "\n",
    "inventory.append(\"cheeko\")\n",
    "\n",
    "inventory.remove(\"banans\")\n",
    "\n",
    "item =\"oranges\"\n",
    "\n",
    "if item in inventory:\n",
    "    print(f\"{item} are in stock\")\n",
    "else:\n",
    "    print(f\"{item} are out of stock\")\n",
    "for fruits in inventory:\n",
    "    print(fruits)    "
   ]
  }
 ],
 "metadata": {
  "kernelspec": {
   "display_name": "Python 3",
   "language": "python",
   "name": "python3"
  },
  "language_info": {
   "codemirror_mode": {
    "name": "ipython",
    "version": 3
   },
   "file_extension": ".py",
   "mimetype": "text/x-python",
   "name": "python",
   "nbconvert_exporter": "python",
   "pygments_lexer": "ipython3",
   "version": "3.13.1"
  }
 },
 "nbformat": 4,
 "nbformat_minor": 2
}
