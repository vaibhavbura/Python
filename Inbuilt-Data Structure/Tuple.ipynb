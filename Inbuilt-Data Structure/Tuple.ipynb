{
 "cells": [
  {
   "cell_type": "code",
   "execution_count": 2,
   "metadata": {},
   "outputs": [
    {
     "name": "stdout",
     "output_type": "stream",
     "text": [
      "()\n",
      "<class 'tuple'>\n"
     ]
    }
   ],
   "source": [
    "empty_tuple=()\n",
    "print(empty_tuple)\n",
    "print(type(empty_tuple))"
   ]
  },
  {
   "cell_type": "code",
   "execution_count": 9,
   "metadata": {},
   "outputs": [
    {
     "name": "stdout",
     "output_type": "stream",
     "text": [
      "(6, 5, 4, 3, 2, 1)\n"
     ]
    }
   ],
   "source": [
    "numbers=(1,2,3,4,5,6)\n",
    "print(numbers[::-1])"
   ]
  },
  {
   "cell_type": "code",
   "execution_count": 12,
   "metadata": {},
   "outputs": [
    {
     "data": {
      "text/plain": [
       "(1, 2, 3, 4, 5, 6, 1, 2, 3, 4, 5, 6, 1, 2, 3, 4, 5, 6)"
      ]
     },
     "execution_count": 12,
     "metadata": {},
     "output_type": "execute_result"
    }
   ],
   "source": [
    "##Tuple Operations\n",
    "numbers*3"
   ]
  },
  {
   "cell_type": "code",
   "execution_count": 14,
   "metadata": {},
   "outputs": [
    {
     "name": "stdout",
     "output_type": "stream",
     "text": [
      "1\n",
      "2\n"
     ]
    }
   ],
   "source": [
    " #tuple methods\n",
    "print(numbers.count(1))\n",
    "print(numbers.index(3))"
   ]
  },
  {
   "cell_type": "code",
   "execution_count": 22,
   "metadata": {},
   "outputs": [
    {
     "name": "stdout",
     "output_type": "stream",
     "text": [
      "apple\n",
      "banana\n",
      "cherry\n"
     ]
    }
   ],
   "source": [
    "#unpacked tuple\n",
    "fruits = (\"apple\", \"banana\", \"cherry\")\n",
    "\n",
    "(green, yellow, red) = fruits\n",
    "\n",
    "print(green)\n",
    "print(yellow)\n",
    "print(red)\n"
   ]
  },
  {
   "cell_type": "code",
   "execution_count": 23,
   "metadata": {},
   "outputs": [
    {
     "name": "stdout",
     "output_type": "stream",
     "text": [
      "apple\n",
      "['mango', 'papaya', 'pineapple']\n",
      "cherry\n"
     ]
    }
   ],
   "source": [
    "fruits = (\"apple\", \"mango\", \"papaya\", \"pineapple\", \"cherry\")\n",
    "\n",
    "(green, *tropic, red) = fruits\n",
    "\n",
    "print(green)\n",
    "print(tropic)\n",
    "print(red)\n"
   ]
  },
  {
   "cell_type": "code",
   "execution_count": 26,
   "metadata": {},
   "outputs": [
    {
     "data": {
      "text/plain": [
       "[1, 'hello', 3.13, 'c']"
      ]
     },
     "execution_count": 26,
     "metadata": {},
     "output_type": "execute_result"
    }
   ],
   "source": [
    "#nested list\n",
    "lst=[[1,2,3,4],[6,7,8,10],[1,\"hello\",3.13,\"c\"]]\n",
    "lst[2][0:4]"
   ]
  },
  {
   "cell_type": "code",
   "execution_count": 29,
   "metadata": {},
   "outputs": [
    {
     "name": "stdout",
     "output_type": "stream",
     "text": [
      "((1, 2, 3), ('a', 'b', 'c'), (True, False))\n",
      "(1, 2, 3)\n",
      "c\n"
     ]
    }
   ],
   "source": [
    "nested_tuple=((1,2,3),(\"a\",\"b\",\"c\"),(True,False))\n",
    "print(nested_tuple)\n",
    "print(nested_tuple[0])\n",
    "print(nested_tuple[1][2])"
   ]
  },
  {
   "cell_type": "code",
   "execution_count": 31,
   "metadata": {},
   "outputs": [
    {
     "name": "stdout",
     "output_type": "stream",
     "text": [
      "1 2 3 \n",
      "a b c \n",
      "True False \n"
     ]
    }
   ],
   "source": [
    "#iterating over nested tuples\n",
    "\n",
    "for sub_tuple in nested_tuple:\n",
    "    for item in sub_tuple:\n",
    "        print(item,end=\" \")\n",
    "    print()"
   ]
  }
 ],
 "metadata": {
  "kernelspec": {
   "display_name": "Python 3",
   "language": "python",
   "name": "python3"
  },
  "language_info": {
   "codemirror_mode": {
    "name": "ipython",
    "version": 3
   },
   "file_extension": ".py",
   "mimetype": "text/x-python",
   "name": "python",
   "nbconvert_exporter": "python",
   "pygments_lexer": "ipython3",
   "version": "3.13.1"
  }
 },
 "nbformat": 4,
 "nbformat_minor": 2
}
